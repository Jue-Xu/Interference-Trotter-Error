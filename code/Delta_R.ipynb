{
 "cells": [
  {
   "cell_type": "code",
   "execution_count": 3,
   "metadata": {},
   "outputs": [
    {
     "name": "stdout",
     "output_type": "stream",
     "text": [
      "0.008882482523299434\n"
     ]
    }
   ],
   "source": [
    "from eig_overlap import *\n",
    "def Delta(H, R, h, T):\n",
    "    r = 1000\n",
    "    dt = T/r\n",
    "    sum = 0\n",
    "    for k in range(r):\n",
    "        sum += expm(-1.0j * H * dt * (r-k)) @ (-1.0j * h*R ) @ expm(-1.0j * (H + h * R) * dt * k)\n",
    "    return sum/r\n",
    "H_list = neighbor_heisenberg(5)\n",
    "R = -1.0j * sum_commutator(H_list) / 2\n",
    "H = sum(H_list) \n",
    "h = 1\n",
    "T = 1\n",
    "print(spectral_norm(Delta(H, R, h, T) -( -expm(-1.0j * H * T) + expm(-1.0j * (H+h*R) * T))))"
   ]
  }
 ],
 "metadata": {
  "kernelspec": {
   "display_name": "Python 3",
   "language": "python",
   "name": "python3"
  },
  "language_info": {
   "codemirror_mode": {
    "name": "ipython",
    "version": 3
   },
   "file_extension": ".py",
   "mimetype": "text/x-python",
   "name": "python",
   "nbconvert_exporter": "python",
   "pygments_lexer": "ipython3",
   "version": "3.10.14"
  }
 },
 "nbformat": 4,
 "nbformat_minor": 2
}
